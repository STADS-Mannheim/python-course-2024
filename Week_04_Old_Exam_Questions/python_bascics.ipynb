{
 "cells": [
  {
   "cell_type": "markdown",
   "metadata": {},
   "source": [
    "# Alte Klausuraufgaben: Python Basics"
   ]
  },
  {
   "cell_type": "markdown",
   "metadata": {},
   "source": [
    "## Aufgabe 1\n",
    "\n",
    "- Erstellen Sie zwei Variabelen `a` und `b`, wobei `a` einen Wert von `5` haben soll und `b` einen Wert von `3`\n",
    "- Die Varibale `c` soll die Addition von `a` und `b` als Wert haben.\n",
    "\n",
    "(2 pkt.)"
   ]
  },
  {
   "cell_type": "code",
   "execution_count": 10,
   "metadata": {},
   "outputs": [],
   "source": []
  },
  {
   "cell_type": "markdown",
   "metadata": {},
   "source": [
    "## Aufgabe 2 \n",
    "\n",
    "- Bestimmen Sie die Datentypen der folgenden Variabeln\n",
    "- Befüllen Sie die Liste `resultat_2` mit den entsprechenden Datentypen: \n",
    "  - float soll mit \"f\" gekennzeichnet werden\n",
    "  - int mit \"i\"\n",
    "  - boolean mit \"b\"\n",
    "  - string mit \"s\"\n",
    "- `index = 0` bzw, das erste Element in der Liste entspricht der Variable `a`, das zweite Element der Variable `b` und das letzte Element der Variable `g`\n",
    "\n",
    "a = \"Easy\" \\\n",
    "b = 2.0 + 2 \\\n",
    "c = True \\\n",
    "d = 5 // 2 \\\n",
    "e = 10 \\\n",
    "f = 30 % 2 \\\n",
    "g = [1.0,\"2\",True,4][1] \n",
    "\n",
    "(7 pkt.)"
   ]
  },
  {
   "cell_type": "code",
   "execution_count": 11,
   "metadata": {},
   "outputs": [],
   "source": []
  },
  {
   "cell_type": "markdown",
   "metadata": {},
   "source": [
    "## Aufgabe 3 \n",
    "\n",
    "- Geben Sie in einer Liste `resultat_3` die Zeilen wieder die syntaktische Fehler beinhalten.\n",
    "- Bsp. wenn Zeile 1, 3 und 4 falsch sind dann `resultat_3 = [1, 3, 4]`\n",
    "\n",
    "1.      a = \"2\" + str(5)\n",
    "2.      3.0 + \"Python\".count(\"o\")\n",
    "3.      True + False + True\n",
    "4.      2 + \"2\"\n",
    "5.      pass\n",
    "6.      1 = 1\n",
    "7.      2 == \"Hallo\"\n",
    "\n",
    "(3 pkt.)"
   ]
  },
  {
   "cell_type": "code",
   "execution_count": 12,
   "metadata": {},
   "outputs": [],
   "source": []
  },
  {
   "cell_type": "markdown",
   "metadata": {},
   "source": [
    "## Aufgabe 4\n",
    "\n",
    "- Schreiben Sie eine for-loop, welche eine Liste `resultat_4` im Interval 0 bis 10 erzeugt. (0 und 10 inklusive)\n",
    "- Beispiel für ein Interval von 10 bis 12: [10, 11, 12]\n",
    "\n",
    "(3 pkt.)"
   ]
  },
  {
   "cell_type": "code",
   "execution_count": 13,
   "metadata": {},
   "outputs": [],
   "source": []
  },
  {
   "cell_type": "markdown",
   "metadata": {},
   "source": [
    "## Aufgabe 5\n",
    "\n",
    "#### Aufgabenstellung\n",
    "- schreiben Sie eine Funktion namens `check_palindrom`, welche überprüfen soll, ob ein String ein Palindrom ist.\n",
    "- Die Funktion soll einen Parameter `text` entgegeben nehmen\n",
    "- Als Output soll die Funktion `True` oder `False` zurückgeben, je nachdem ob es Palindrom ist. \n",
    "\n",
    "#### Beschreibung Palindrom\n",
    "- Ein Palindrom ist ein Text, welcher umgekehrt denselben Text anzeigt \n",
    "- Beispiele für Palindrome: Anna, Lagerregal, Ein Esel lese nie, Rentner\n",
    "- Dabei sind die Groß- und Kleinschreibung, Satzzeichen sowie Leerzeichen zu entfernen.\n",
    "- Das heißt der Input kann jeglicher String sein, aber das Resultat sollte nur den zusammengesetzten String aus kleinbuchstaben beachten.\n",
    "- Bsp: Input: \"Ein Esel lese nie\" , Output: True, weil \"einesellesenie\" == \"einesellesenie\"\n",
    "\n",
    "(10 Pkt. )"
   ]
  },
  {
   "cell_type": "code",
   "execution_count": 14,
   "metadata": {},
   "outputs": [],
   "source": [
    " "
   ]
  },
  {
   "cell_type": "markdown",
   "metadata": {},
   "source": [
    "## Aufgabe 6\n",
    "\n",
    "- schreiben Sie eine Funktion `is_even`, welche einen Parameter `num` entgegeben nimmt und `True` zurückgibt, wenn `num` durch 2 teilbar ist und `False` wenn nicht. \n",
    "\n",
    "(5 pkt.)"
   ]
  },
  {
   "cell_type": "code",
   "execution_count": 15,
   "metadata": {},
   "outputs": [],
   "source": []
  },
  {
   "cell_type": "markdown",
   "metadata": {},
   "source": [
    "## Aufgabe 7\n",
    "\n",
    "- Definieren Sie eine Klasse `Student`\n",
    "- Jeder Student soll mit den Attributen, `name`, `studiengang` und `hobby` initialisiert werden.\n",
    "- Definieren Sie die Funktion `__str__`, welche widergibt, f\"{name} studiert {studiengang} und liebt {hobby}\"\n",
    "- Der String muss eins zu eins dem String dem obendrüber entsprechen \n",
    "(10 pkt.)"
   ]
  },
  {
   "cell_type": "code",
   "execution_count": null,
   "metadata": {},
   "outputs": [],
   "source": []
  },
  {
   "cell_type": "markdown",
   "metadata": {},
   "source": [
    "## Test your code"
   ]
  },
  {
   "cell_type": "code",
   "execution_count": null,
   "metadata": {},
   "outputs": [],
   "source": [
    "# Dieser Code testet deinen Code und gibt dir deine approximierte Punkteanzahl aus.\n",
    "from checker import check_solution\n",
    "print(check_solution([[a,b,c], resultat_2, resultat_3, resultat_4, check_palindrom, is_even, Student]))"
   ]
  }
 ],
 "metadata": {
  "kernelspec": {
   "display_name": "stads",
   "language": "python",
   "name": "python3"
  },
  "language_info": {
   "codemirror_mode": {
    "name": "ipython",
    "version": 3
   },
   "file_extension": ".py",
   "mimetype": "text/x-python",
   "name": "python",
   "nbconvert_exporter": "python",
   "pygments_lexer": "ipython3",
   "version": "3.12.7"
  }
 },
 "nbformat": 4,
 "nbformat_minor": 2
}
