{
 "cells": [
  {
   "cell_type": "markdown",
   "id": "770a499f-fa07-4ca0-8ddd-c50e76eb0599",
   "metadata": {
    "tags": []
   },
   "source": [
    "# Solutions\n",
    "\n",
    "Here are are sample solutions to the exercises of the two sections.\n",
    "\n",
    "#### Table of Contents\n",
    "- [Section 1 &ndash; Getting Started with Pandas](#Section-1)\n",
    "- [Section 2 &ndash; Data Wrangling](#Section-2)\n",
    "\n",
    "--- \n",
    "\n",
    "## Section 1\n",
    "\n",
    "### Exercise 1.1\n",
    "##### Create a DataFrame by reading in the `2019_Yellow_Taxi_Trip_Data.csv` file. Examine the first 5 rows."
   ]
  },
  {
   "cell_type": "code",
   "execution_count": null,
   "id": "aa449dc1-4c0b-47ce-bba7-061568590d97",
   "metadata": {},
   "outputs": [],
   "source": [
    "import pandas as pd\n",
    "\n",
    "# Read the data from the CSV file\n",
    "taxis = pd.read_csv('../data/2019_Yellow_Taxi_Trip_Data.csv')\n",
    "\n",
    "# Display the first few rows of the data\n",
    "taxis.head()"
   ]
  },
  {
   "cell_type": "markdown",
   "id": "4d52808c-cb6b-4a2b-a183-5c886bbe6b85",
   "metadata": {},
   "source": [
    "### Exercise 1.2\n",
    "##### Find the dimensions (number of rows and number of columns) in the data."
   ]
  },
  {
   "cell_type": "code",
   "execution_count": null,
   "id": "f4e7275f-4009-4cc9-911d-da92efb79fdd",
   "metadata": {},
   "outputs": [],
   "source": [
    "# Display the shape of the data\n",
    "taxis.shape"
   ]
  },
  {
   "cell_type": "markdown",
   "id": "b4e9aa37-a244-4e4c-8caa-9d13ca8c7f71",
   "metadata": {
    "tags": []
   },
   "source": [
    "### Exercise 1.3\n",
    "##### Using the data in the `2019_Yellow_Taxi_Trip_Data.csv` file, calculate summary statistics for the `fare_amount`, `tip_amount`, `tolls_amount`, and `total_amount` columns."
   ]
  },
  {
   "cell_type": "code",
   "execution_count": null,
   "id": "8577fc58-fd5f-412b-aa2e-50c541c5778b",
   "metadata": {},
   "outputs": [],
   "source": [
    "import pandas as pd\n",
    "\n",
    "# Read the data from the CSV file\n",
    "taxis = pd.read_csv('../data/2019_Yellow_Taxi_Trip_Data.csv')\n",
    "\n",
    "# Describe a subset of the columns\n",
    "taxis[['fare_amount', 'tip_amount', 'tolls_amount', 'total_amount']].describe()"
   ]
  },
  {
   "cell_type": "markdown",
   "id": "4fbf547b-a273-4327-b17a-2c10a58b96bc",
   "metadata": {
    "tags": []
   },
   "source": [
    "### Exercise 1.4\n",
    "##### Get the `fare_amount`, `tip_amount`, `tolls_amount`, and `total_amount` for the longest trip by distance (`trip_distance`)."
   ]
  },
  {
   "cell_type": "code",
   "execution_count": null,
   "id": "dc75ecfc-19b5-438b-b078-eaf7cfc3e7f3",
   "metadata": {},
   "outputs": [],
   "source": [
    "taxis.loc[\n",
    "    taxis['trip_distance'].idxmax(), # Get the index of the row with the maximum trip distance\n",
    "    ['fare_amount', 'tip_amount', 'tolls_amount', 'total_amount'] # Get the subset of columns\n",
    "]"
   ]
  },
  {
   "cell_type": "markdown",
   "id": "b9aaeed4-127a-412b-93f6-b179e4ba85f0",
   "metadata": {},
   "source": [
    "---\n",
    "\n",
    "## Section 2\n",
    "\n",
    "### Exercise 2.1\n",
    "##### Read in the meteorite data from the `Meteorite_Landings.csv` file, rename the `mass (g)` column to `mass`, and drop all the latitude and longitude columns. Sort the result by mass in descending order."
   ]
  },
  {
   "cell_type": "code",
   "execution_count": null,
   "id": "ada49a08-cda7-42ee-ade9-8bb2a2c5a9b8",
   "metadata": {},
   "outputs": [],
   "source": [
    "import pandas as pd\n",
    "\n",
    "# Read the data from the CSV file\n",
    "meteorites = pd.read_csv('../data/Meteorite_Landings.csv')\n",
    "\n",
    "# Rename the column\n",
    "meteorites = meteorites.rename(columns={'mass (g)': 'mass'})\n",
    "\n",
    "# Drop irrelevant columns\n",
    "meteorites = meteorites.drop(columns=meteorites.columns[-3:])\n",
    "\n",
    "# Sort the data by mass\n",
    "meteorites.sort_values('mass', ascending=False)\n",
    "\n",
    "# Display the first few rows of the data\n",
    "meteorites.head()"
   ]
  },
  {
   "cell_type": "markdown",
   "id": "6994b42d-8205-4584-84a0-b3a7fa56c9b1",
   "metadata": {},
   "source": [
    "### Exercise 2.2\n",
    "##### Using the meteorite data from the `Meteorite_Landings.csv` file, update the `year` column to only contain the year, convert it to a numeric data type, and create a new column indicating whether the meteorite was observed falling before 1970. Set the index to the `id` column and extract all the rows with IDs between 10,036 and 10,040 (inclusive) with `loc[]`.\n",
    "\n",
    "###### **Hint 1**: Use `year.str.slice()` to grab a substring.\n",
    "\n",
    "###### **Hint 2**: Make sure to sort the index before using `loc[]` to select the range.\n",
    "\n",
    "###### **Bonus**: There's a data entry error in the `year` column. Can you find it? (Don't spend too much time on this.)"
   ]
  },
  {
   "cell_type": "code",
   "execution_count": null,
   "id": "02605233-73c5-4cd9-8134-b38ab749e8df",
   "metadata": {},
   "outputs": [],
   "source": [
    "import pandas as pd\n",
    "\n",
    "# Load the CSV file\n",
    "meteorites = pd.read_csv('../data/Meteorite_Landings.csv')\n",
    "\n",
    "# Convert 'year' to numeric by extracting the last 4 characters from the 'year' string\n",
    "meteorites['year'] = pd.to_numeric(meteorites['year'].str.slice(6, 10))\n",
    "\n",
    "# Create the 'pre_1970' column indicating if the meteorite fell before 1970\n",
    "meteorites['pre_1970'] = (meteorites['fall'] == 'Fell') & (meteorites['year'] < 1970)\n",
    "\n",
    "# Set 'id' as the index\n",
    "meteorites = meteorites.set_index('id')\n",
    "\n",
    "# Sort by index\n",
    "meteorites = meteorites.sort_index()\n",
    "\n",
    "# Extract IDs between 10,036 and 10,040\n",
    "meteorites.loc[10_036:10_040]"
   ]
  },
  {
   "cell_type": "markdown",
   "id": "c63135ce",
   "metadata": {},
   "source": [
    "**Note**: The `pd.to_datetime()` function is another option here; however, it will only be able to convert dates within the supported bounds (between `pd.Timestamp.min` and `pd.Timestamp.max`), which will cause some entries that do have a year to be marked as not having one. More information can be found in the pandas documentation [here](https://pandas.pydata.org/docs/reference/api/pandas.to_datetime.html). For reference, this is how the conversion can be done:\n",
    "\n",
    "```python\n",
    "pd.to_datetime(\n",
    "    meteorites.year,\n",
    "    errors='coerce',  # anything that can't be converted will be NaT (null)\n",
    "    format='%m/%d/%Y %I:%M:%S %p'  # the format the datetimes are currently in\n",
    ")\n",
    "```"
   ]
  },
  {
   "cell_type": "markdown",
   "id": "f477332f",
   "metadata": {},
   "source": [
    "##### **Bonus**: There's a data entry error in the `year` column. Can you find it?"
   ]
  },
  {
   "cell_type": "code",
   "execution_count": null,
   "id": "709a325a",
   "metadata": {},
   "outputs": [],
   "source": [
    "meteorites.year.describe()"
   ]
  },
  {
   "cell_type": "markdown",
   "id": "d39213c2",
   "metadata": {},
   "source": [
    "There's a meteorite that was reportedly found in the future:"
   ]
  },
  {
   "cell_type": "code",
   "execution_count": null,
   "id": "971d1dab",
   "metadata": {},
   "outputs": [],
   "source": [
    "meteorites.query(f'year > {pd.Timestamp(\"today\").year}')"
   ]
  },
  {
   "cell_type": "markdown",
   "id": "b0a4a597",
   "metadata": {},
   "source": [
    "Oops! This meteorite actually was found in 2010 (more information [here](https://www.lpi.usra.edu/meteor/metbull.php?code=57150))."
   ]
  },
  {
   "cell_type": "markdown",
   "id": "16d1f8ab-ad56-412d-8df7-a59252f282cf",
   "metadata": {},
   "source": [
    "### Exercise 2.3\n",
    "##### Using the meteorite data from the `Meteorite_Landings.csv` file, create a pivot table that shows both the number of meteorites and the 95th percentile of meteorite mass for those that were found versus observed falling per year from 2005 through 2009 (inclusive). Hint: Be sure to convert the `year` column to a number as we did in the previous exercise."
   ]
  },
  {
   "cell_type": "code",
   "execution_count": null,
   "id": "511433c4-5a9d-41a4-8050-0e953225da0e",
   "metadata": {},
   "outputs": [],
   "source": [
    "import pandas as pd\n",
    "\n",
    "# Load the CSV file\n",
    "meteorites = pd.read_csv('../data/Meteorite_Landings.csv')\n",
    "\n",
    "# Convert 'year' to numeric by extracting the last 4 characters from the 'year' string\n",
    "meteorites['year'] = pd.to_numeric(meteorites['year'].str.slice(6, 10))\n",
    "\n",
    "# Filter rows where 'year' is between 2005 and 2009\n",
    "filtered_meteorites = meteorites[(meteorites['year']>=2005) & (meteorites['year']<=2009)]\n",
    "\n",
    "# Create a pivot table with 'year' as the index, 'fall' as the columns, \n",
    "# and count and 95th percentile as aggregation functions for 'mass (g)'\n",
    "pivot_table = filtered_meteorites.pivot_table(\n",
    "    index='year',\n",
    "    columns='fall',\n",
    "    values='mass (g)',\n",
    "    aggfunc={\n",
    "        'mass (g)': ['count', lambda x: x.quantile(0.95)]\n",
    "    }\n",
    ")\n",
    "\n",
    "# Rename the 'lambda' function column to '95th percentile'\n",
    "pivot_table = pivot_table.rename(columns={'<lambda_0>': '95th percentile'})\n",
    "\n",
    "pivot_table"
   ]
  },
  {
   "cell_type": "markdown",
   "id": "4243c25b-6b5d-4fec-a818-3766be46c7a1",
   "metadata": {},
   "source": [
    "### Exercise 2.4\n",
    "##### Using the meteorite data from the `Meteorite_Landings.csv` file, compare summary statistics of the mass column for the meteorites that were found versus observed falling."
   ]
  },
  {
   "cell_type": "code",
   "execution_count": null,
   "id": "79aebbf8-1935-449f-94d8-aea0e1b67b4b",
   "metadata": {},
   "outputs": [],
   "source": [
    "import pandas as pd\n",
    "\n",
    "# Load the CSV file\n",
    "meteorites = pd.read_csv('../data/Meteorite_Landings.csv')\n",
    "\n",
    "# Group by fall and describe the 'mass (g)' column\n",
    "meteorites.groupby('fall')['mass (g)'].describe()"
   ]
  }
 ],
 "metadata": {
  "kernelspec": {
   "display_name": "stads",
   "language": "python",
   "name": "python3"
  },
  "language_info": {
   "codemirror_mode": {
    "name": "ipython",
    "version": 3
   },
   "file_extension": ".py",
   "mimetype": "text/x-python",
   "name": "python",
   "nbconvert_exporter": "python",
   "pygments_lexer": "ipython3",
   "version": "3.12.7"
  }
 },
 "nbformat": 4,
 "nbformat_minor": 5
}
