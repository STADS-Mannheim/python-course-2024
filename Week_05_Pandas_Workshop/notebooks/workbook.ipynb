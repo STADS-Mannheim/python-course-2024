{
 "cells": [
  {
   "cell_type": "markdown",
   "id": "770a499f-fa07-4ca0-8ddd-c50e76eb0599",
   "metadata": {
    "tags": []
   },
   "source": [
    "# Workbook\n",
    "\n",
    "Use this notebook to complete the exercises of the two sections.\n",
    "\n",
    "#### Table of Contents\n",
    "- [Section 1 &ndash; Getting Started](#Section-1)\n",
    "- [Section 2 &ndash; Data Wrangling](#Section-2)\n",
    "\n",
    "--- \n",
    "\n",
    "## Section 1\n",
    "\n",
    "### Exercise 1.1\n",
    "##### Create a DataFrame by reading in the `2019_Yellow_Taxi_Trip_Data.csv` file. Examine the first 5 rows."
   ]
  },
  {
   "cell_type": "code",
   "execution_count": null,
   "id": "aa449dc1-4c0b-47ce-bba7-061568590d97",
   "metadata": {},
   "outputs": [],
   "source": []
  },
  {
   "cell_type": "markdown",
   "id": "4d52808c-cb6b-4a2b-a183-5c886bbe6b85",
   "metadata": {},
   "source": [
    "### Exercise 1.2\n",
    "##### Find the dimensions (number of rows and number of columns) in the data."
   ]
  },
  {
   "cell_type": "code",
   "execution_count": null,
   "id": "f4e7275f-4009-4cc9-911d-da92efb79fdd",
   "metadata": {},
   "outputs": [],
   "source": []
  },
  {
   "cell_type": "markdown",
   "id": "b4e9aa37-a244-4e4c-8caa-9d13ca8c7f71",
   "metadata": {
    "tags": []
   },
   "source": [
    "### Exercise 1.3\n",
    "##### Using the data in the `2019_Yellow_Taxi_Trip_Data.csv` file, calculate summary statistics for the `fare_amount`, `tip_amount`, `tolls_amount`, and `total_amount` columns."
   ]
  },
  {
   "cell_type": "code",
   "execution_count": null,
   "id": "8577fc58-fd5f-412b-aa2e-50c541c5778b",
   "metadata": {},
   "outputs": [],
   "source": []
  },
  {
   "cell_type": "markdown",
   "id": "4fbf547b-a273-4327-b17a-2c10a58b96bc",
   "metadata": {
    "tags": []
   },
   "source": [
    "### Exercise 1.4\n",
    "##### Get the `fare_amount`, `tip_amount`, `tolls_amount`, and `total_amount` for the longest trip by distance (`trip_distance`)."
   ]
  },
  {
   "cell_type": "code",
   "execution_count": null,
   "id": "dc75ecfc-19b5-438b-b078-eaf7cfc3e7f3",
   "metadata": {},
   "outputs": [],
   "source": []
  },
  {
   "cell_type": "markdown",
   "id": "b9aaeed4-127a-412b-93f6-b179e4ba85f0",
   "metadata": {},
   "source": [
    "---\n",
    "\n",
    "## Section 2\n",
    "\n",
    "### Exercise 2.1\n",
    "##### Read in the meteorite data from the `Meteorite_Landings.csv` file, rename the `mass (g)` column to `mass`, and drop all the latitude and longitude columns. Sort the result by mass in descending order."
   ]
  },
  {
   "cell_type": "code",
   "execution_count": null,
   "id": "ada49a08-cda7-42ee-ade9-8bb2a2c5a9b8",
   "metadata": {},
   "outputs": [],
   "source": []
  },
  {
   "cell_type": "markdown",
   "id": "6994b42d-8205-4584-84a0-b3a7fa56c9b1",
   "metadata": {},
   "source": [
    "### Exercise 2.2\n",
    "##### Using the meteorite data from the `Meteorite_Landings.csv` file, update the `year` column to only contain the year, convert it to a numeric data type, and create a new column indicating whether the meteorite was observed falling before 1970. Set the index to the `id` column and extract all the rows with IDs between 10,036 and 10,040 (inclusive) with `loc[]`.\n",
    "\n",
    "###### **Hint 1**: Use `year.str.slice()` to grab a substring.\n",
    "\n",
    "###### **Hint 2**: Make sure to sort the index before using `loc[]` to select the range.\n",
    "\n",
    "###### **Bonus**: There's a data entry error in the `year` column. Can you find it? (Don't spend too much time on this.)"
   ]
  },
  {
   "cell_type": "code",
   "execution_count": null,
   "id": "02605233-73c5-4cd9-8134-b38ab749e8df",
   "metadata": {},
   "outputs": [],
   "source": []
  },
  {
   "cell_type": "markdown",
   "id": "16d1f8ab-ad56-412d-8df7-a59252f282cf",
   "metadata": {},
   "source": [
    "### Exercise 2.3\n",
    "##### Using the meteorite data from the `Meteorite_Landings.csv` file, create a pivot table that shows both the number of meteorites and the 95th percentile of meteorite mass for those that were found versus observed falling per year from 2005 through 2009 (inclusive). Hint: Be sure to convert the `year` column to a number as we did in the previous exercise."
   ]
  },
  {
   "cell_type": "code",
   "execution_count": null,
   "id": "511433c4-5a9d-41a4-8050-0e953225da0e",
   "metadata": {},
   "outputs": [],
   "source": []
  },
  {
   "cell_type": "markdown",
   "id": "4243c25b-6b5d-4fec-a818-3766be46c7a1",
   "metadata": {},
   "source": [
    "### Exercise 2.4\n",
    "##### Using the meteorite data from the `Meteorite_Landings.csv` file, compare summary statistics of the mass column for the meteorites that were found versus observed falling."
   ]
  },
  {
   "cell_type": "code",
   "execution_count": null,
   "id": "79aebbf8-1935-449f-94d8-aea0e1b67b4b",
   "metadata": {},
   "outputs": [],
   "source": []
  }
 ],
 "metadata": {
  "kernelspec": {
   "display_name": "Python 3 (ipykernel)",
   "language": "python",
   "name": "python3"
  },
  "language_info": {
   "codemirror_mode": {
    "name": "ipython",
    "version": 3
   },
   "file_extension": ".py",
   "mimetype": "text/x-python",
   "name": "python",
   "nbconvert_exporter": "python",
   "pygments_lexer": "ipython3",
   "version": "3.12.4"
  }
 },
 "nbformat": 4,
 "nbformat_minor": 5
}
