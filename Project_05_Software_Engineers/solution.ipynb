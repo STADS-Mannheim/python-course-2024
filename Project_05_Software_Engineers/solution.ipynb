{
 "cells": [
  {
   "cell_type": "markdown",
   "metadata": {},
   "source": [
    "# US Software Engineers Analysis - Solution"
   ]
  },
  {
   "cell_type": "code",
   "execution_count": 1,
   "metadata": {},
   "outputs": [],
   "source": [
    "# we start by importing all necessary libraries\n",
    "import pandas as pd\n",
    "import numpy as np\n",
    "import matplotlib.pyplot as plt\n",
    "import re"
   ]
  },
  {
   "cell_type": "code",
   "execution_count": null,
   "metadata": {},
   "outputs": [],
   "source": [
    "# we read the csv and print the first 5 rows\n",
    "df = pd.read_csv('data.csv', index_col=0)\n",
    "df.head()"
   ]
  },
  {
   "cell_type": "code",
   "execution_count": null,
   "metadata": {},
   "outputs": [],
   "source": [
    "# Get information about columns\n",
    "df.info()"
   ]
  },
  {
   "cell_type": "code",
   "execution_count": null,
   "metadata": {},
   "outputs": [],
   "source": [
    "# Get statistical data about the dataset\n",
    "df.describe()"
   ]
  },
  {
   "cell_type": "code",
   "execution_count": null,
   "metadata": {},
   "outputs": [],
   "source": [
    "for i in df.columns:\n",
    "    print(i, df[i].value_counts())"
   ]
  },
  {
   "cell_type": "markdown",
   "metadata": {},
   "source": [
    "## Question 1"
   ]
  },
  {
   "cell_type": "code",
   "execution_count": null,
   "metadata": {},
   "outputs": [],
   "source": [
    "df[\"title\"].value_counts()[:3]"
   ]
  },
  {
   "cell_type": "markdown",
   "metadata": {},
   "source": [
    "## Question 2"
   ]
  },
  {
   "cell_type": "code",
   "execution_count": null,
   "metadata": {},
   "outputs": [],
   "source": [
    "remote = df[df[\"location\"] == \"Remote\"]\n",
    "non_remote = df[df[\"location\"] != \"Remote\"]\n",
    "len(remote),len(non_remote)"
   ]
  },
  {
   "cell_type": "code",
   "execution_count": null,
   "metadata": {},
   "outputs": [],
   "source": [
    "print(\"Comparison Ratings remote and not-remote jobs:\")\n",
    "print(f\"Median Rating, Remote: {remote.rating.median():.2f}, Non-Remote: {non_remote.rating.median():.2f}\")\n",
    "print(f\"Mean Rating, Remote: {remote.rating.mean():.2f}, Non-Remote: {non_remote.rating.mean():.2f}\")"
   ]
  },
  {
   "cell_type": "code",
   "execution_count": null,
   "metadata": {},
   "outputs": [],
   "source": [
    "remote_distribution = (remote['rating'].map(lambda x: round(x, 0)).value_counts(normalize=True)).sort_index()\n",
    "remote_distribution\n",
    "# Calculate percentage distribution for not_remote dataframe\n",
    "non_remote_distribution = (non_remote['rating'].map(lambda x: round(x, 0)).value_counts(normalize=True)).sort_index()\n",
    "\n",
    "f, ax = plt.subplots(1, 2, figsize=(15, 5))\n",
    "ax[0].set_title('Remote')\n",
    "ax[0].bar(remote_distribution.index, remote_distribution.values)\n",
    "ax[0].set_xlabel('Rating')\n",
    "ax[0].set_ylabel('Percentage distribution')\n",
    "\n",
    "ax[1].set_title(\"Not Remote\")\n",
    "ax[1].bar(non_remote_distribution.index, non_remote_distribution.values)\n",
    "ax[1].set_xlabel('Rating')"
   ]
  },
  {
   "cell_type": "markdown",
   "metadata": {},
   "source": [
    "It is difficult to evaluate the result, because there are much more NaN values in the remote dataset. We can see that more people voted in the non-remote dataset and that most people who voted in both datasets gave the rating 4. The average and median rating is higher in the not remote dataset."
   ]
  },
  {
   "cell_type": "markdown",
   "metadata": {},
   "source": [
    "## Question 3"
   ]
  },
  {
   "cell_type": "code",
   "execution_count": null,
   "metadata": {},
   "outputs": [],
   "source": [
    "remote.salary.value_counts()"
   ]
  },
  {
   "cell_type": "markdown",
   "metadata": {},
   "source": [
    "1. We have to make a few assumptions about the distribution. If a range is given then we calculate the mean. If it's a hourly salary then we multiply it by 40 * 52 since we assume the person works for 40 hours a week and a year consists of 52 weeks.  \n",
    "2. We have to code this requirements since we need integers or floats to calculate the average salary"
   ]
  },
  {
   "cell_type": "code",
   "execution_count": null,
   "metadata": {},
   "outputs": [],
   "source": [
    "remote.salary.info()"
   ]
  },
  {
   "cell_type": "code",
   "execution_count": null,
   "metadata": {},
   "outputs": [],
   "source": [
    "non_remote.salary.info()"
   ]
  },
  {
   "cell_type": "code",
   "execution_count": null,
   "metadata": {},
   "outputs": [],
   "source": [
    "data = pd.Series([\"$132,000 - $192,000 a year\", \"$110,000 - $150,000 a year\"])\n",
    "\n",
    "# Define a function to extract numbers from a string\n",
    "def extract_numbers(text):\n",
    "    text = str(text)\n",
    "    text = text.replace(\",\", \"\")\n",
    "    numbers = re.findall(r'\\d+', text)\n",
    "    return [int(number) if int(number) > 2000 else int(number) * 40 * 52 for number in numbers]  \n",
    "    # we assume that no one has a larger hourly salary than 2000 dollars\n",
    "\n",
    "def formatter(pd_series):\n",
    "    # Apply the function to each element in the Series to get the sublists of numbers\n",
    "    sublists = pd_series.apply(extract_numbers)\n",
    "\n",
    "    # Calculate the mean for each sublist\n",
    "    means = sublists.apply(lambda sublist: sum(sublist) / len(sublist) if len(sublist) > 0 else np.nan) \n",
    "    return means\n",
    "\n",
    "remote = remote.dropna(subset=[\"salary\"])\n",
    "non_remote = non_remote.dropna(subset=[\"salary\"])\n",
    "\n",
    "salaries_remote = formatter(remote.salary)\n",
    "salaries_not_remote = formatter(non_remote.salary)\n",
    "print(f\"Average Salaries, Remote: {salaries_remote.mean():.2f}, Non Remote: {salaries_not_remote.mean():.2f}\")    "
   ]
  },
  {
   "cell_type": "markdown",
   "metadata": {},
   "source": [
    "We can see that the salaries are pretty similiar and it doesn't make a big difference salary wise if you work in the office or remote"
   ]
  }
 ],
 "metadata": {
  "kernelspec": {
   "display_name": "stads",
   "language": "python",
   "name": "python3"
  },
  "language_info": {
   "codemirror_mode": {
    "name": "ipython",
    "version": 3
   },
   "file_extension": ".py",
   "mimetype": "text/x-python",
   "name": "python",
   "nbconvert_exporter": "python",
   "pygments_lexer": "ipython3",
   "version": "3.12.7"
  },
  "orig_nbformat": 4
 },
 "nbformat": 4,
 "nbformat_minor": 2
}
